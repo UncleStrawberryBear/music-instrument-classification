{
 "cells": [
  {
   "cell_type": "code",
   "execution_count": 20,
   "id": "5f04506d",
   "metadata": {},
   "outputs": [
    {
     "name": "stdout",
     "output_type": "stream",
     "text": [
      "Cloning into 'music-instrument-classification'...\n",
      "remote: Enumerating objects: 5521, done.\u001b[K\n",
      "remote: Total 5521 (delta 0), reused 0 (delta 0), pack-reused 5521 (from 1)\u001b[K\n",
      "Receiving objects: 100% (5521/5521), 354.41 MiB | 5.84 MiB/s, done.\n",
      "Resolving deltas: 100% (127/127), done.\n",
      "Updating files: 100% (5478/5478), done.\n",
      "/Users/linfengsheng/Desktop/recovery/MusicalInstrumentClassification/music-instrument-classification/music-instrument-classification\n"
     ]
    }
   ],
   "source": [
    "!git clone -b src https://github.com/UncleStrawberryBear/music-instrument-classification.git\n",
    "%cd music-instrument-classification"
   ]
  },
  {
   "cell_type": "code",
   "execution_count": 21,
   "id": "6fad624b",
   "metadata": {},
   "outputs": [
    {
     "name": "stderr",
     "output_type": "stream",
     "text": [
      "/var/folders/9j/dbz2hq555652j8pprfb53n3w0000gn/T/ipykernel_78604/3171222317.py:2: UserWarning: torchaudio._backend.set_audio_backend has been deprecated. With dispatcher enabled, this function is no-op. You can remove the function call.\n",
      "  torchaudio.set_audio_backend(\"ffmpeg\")\n"
     ]
    }
   ],
   "source": [
    "import torchaudio\n",
    "torchaudio.set_audio_backend(\"ffmpeg\")\n"
   ]
  },
  {
   "cell_type": "code",
   "execution_count": 30,
   "id": "initial_id",
   "metadata": {
    "ExecuteTime": {
     "end_time": "2025-04-02T21:53:26.850858Z",
     "start_time": "2025-04-02T21:53:23.263997Z"
    },
    "collapsed": true
   },
   "outputs": [
    {
     "name": "stdout",
     "output_type": "stream",
     "text": [
      "True\n"
     ]
    }
   ],
   "source": [
    "from torch.utils.data import DataLoader\n",
    "from dataset import AudioInstrumentDataset\n",
    "from torch.optim import SGD\n",
    "import torch.nn as nn\n",
    "import numpy as np\n",
    "from model import CNNInstrumentClassifier\n",
    "from constants import *\n",
    "import os\n",
    "print(os.path.exists(\"all-samples/guitar/guitar_E5_very-long_forte_normal.mp3\"))"
   ]
  },
  {
   "cell_type": "code",
   "execution_count": 26,
   "id": "1b22d765",
   "metadata": {},
   "outputs": [],
   "source": [
    "!python dataset.py"
   ]
  },
  {
   "cell_type": "code",
   "execution_count": 18,
   "id": "b6871b85103ac2af",
   "metadata": {
    "ExecuteTime": {
     "end_time": "2025-03-31T21:40:47.259380Z",
     "start_time": "2025-03-31T21:40:47.244044Z"
    }
   },
   "outputs": [],
   "source": [
    "sequence_length = int(SAMPLE_RATE*0.5)\n",
    "\n",
    "train_data = AudioInstrumentDataset(r\"train_metadata.csv\", sequence_length=sequence_length)\n",
    "\n",
    "loader = DataLoader(train_data, batch_size=32, shuffle=True)\n",
    "\n",
    "model = CNNInstrumentClassifier()\n",
    "\n",
    "def train(loader, model, n_epochs=20):\n",
    "    # Optimization\n",
    "    opt = SGD(model.parameters(), lr=0.01)\n",
    "    Loss = nn.CrossEntropyLoss()\n",
    "\n",
    "    # Train model\n",
    "    losses = []\n",
    "    epochs = []\n",
    "    for epoch in range(n_epochs):\n",
    "        N = len(loader)\n",
    "        for i, (x, y) in enumerate(loader):\n",
    "            opt.zero_grad()\n",
    "            loss_value = Loss(model(x), y)\n",
    "            loss_value.backward()\n",
    "            opt.step()\n",
    "\n",
    "            losses.append(loss_value.item())\n",
    "            epochs.append(epoch + i / N)\n",
    "        print(f'Epoch {epoch}, Loss: {loss_value.item()}')\n",
    "    return np.array(epochs), np.array(losses)\n"
   ]
  },
  {
   "cell_type": "code",
   "execution_count": 19,
   "id": "87b951cc87beeb2b",
   "metadata": {
    "ExecuteTime": {
     "end_time": "2025-03-31T21:44:50.704613Z",
     "start_time": "2025-03-31T21:40:48.638554Z"
    }
   },
   "outputs": [
    {
     "name": "stdout",
     "output_type": "stream",
     "text": [
      "Epoch 0, Loss: 1.449187994003296\n",
      "Epoch 1, Loss: 1.2650307416915894\n",
      "Epoch 2, Loss: 1.0378583669662476\n",
      "Epoch 3, Loss: 0.7699368000030518\n",
      "Epoch 4, Loss: 1.0471490621566772\n",
      "Epoch 5, Loss: 0.9697391986846924\n",
      "Epoch 6, Loss: 0.824603796005249\n",
      "Epoch 7, Loss: 0.8200627565383911\n",
      "Epoch 8, Loss: 1.385880947113037\n",
      "Epoch 9, Loss: 0.6810858249664307\n",
      "Epoch 10, Loss: 0.8181524872779846\n",
      "Epoch 11, Loss: 0.6716717481613159\n",
      "Epoch 12, Loss: 0.4537297785282135\n",
      "Epoch 13, Loss: 0.59175044298172\n",
      "Epoch 14, Loss: 0.5668394565582275\n",
      "Epoch 15, Loss: 0.5150940418243408\n",
      "Epoch 16, Loss: 0.5066289305686951\n",
      "Epoch 17, Loss: 0.3446823060512543\n",
      "Epoch 18, Loss: 0.598971962928772\n",
      "Epoch 19, Loss: 0.5412444472312927\n"
     ]
    }
   ],
   "source": [
    "epoch_data, loss_data = train(loader, model)"
   ]
  },
  {
   "cell_type": "code",
   "execution_count": 20,
   "id": "6e7d8a8d3e3b754c",
   "metadata": {
    "ExecuteTime": {
     "end_time": "2025-03-31T21:46:42.387895Z",
     "start_time": "2025-03-31T21:46:42.311865Z"
    }
   },
   "outputs": [
    {
     "data": {
      "image/png": "[encoded data removed]",
      "text/plain": [
       "<Figure size 640x480 with 1 Axes>"
      ]
     },
     "metadata": {},
     "output_type": "display_data"
    }
   ],
   "source": [
    "import matplotlib.pyplot as plt\n",
    "plt.plot(epoch_data, loss_data)\n",
    "plt.xlabel('Epoch')\n",
    "plt.ylabel('Loss')\n",
    "plt.show()"
   ]
  },
  {
   "cell_type": "code",
   "execution_count": 21,
   "id": "12b8c7b534157060",
   "metadata": {
    "ExecuteTime": {
     "end_time": "2025-03-31T21:46:48.526840Z",
     "start_time": "2025-03-31T21:46:45.003753Z"
    }
   },
   "outputs": [],
   "source": [
    "test_data = AudioInstrumentDataset(r\"test_metadata.csv\", sequence_length=sequence_length)\n",
    "xs, ys = zip(*[test_data[i] for i in range(len(test_data))])"
   ]
  },
  {
   "cell_type": "code",
   "execution_count": 22,
   "id": "4ab69ca669b384a1",
   "metadata": {
    "ExecuteTime": {
     "end_time": "2025-03-31T21:46:50.583704Z",
     "start_time": "2025-03-31T21:46:49.970350Z"
    }
   },
   "outputs": [
    {
     "name": "stdout",
     "output_type": "stream",
     "text": [
      "Test Accuracy: 0.8281718281718282\n"
     ]
    }
   ],
   "source": [
    "# Convert to tensors (assuming they are NumPy arrays or lists)\n",
    "xs = torch.stack(xs)  # Convert list of tensors to a single tensor\n",
    "ys = torch.stack(ys)  # Convert list of one-hot encoded labels to a single tensor\n",
    "\n",
    "# Run inference\n",
    "model.eval()\n",
    "yhats = model(xs).argmax(dim=1)  # Predict class indices\n",
    "test_accuracy = (yhats == ys.argmax(dim=1)).sum().item() / len(ys)\n",
    "\n",
    "print(f'Test Accuracy: {test_accuracy}')"
   ]
  },
  {
   "cell_type": "code",
   "execution_count": 19,
   "id": "8212ee87ed03a4b3",
   "metadata": {
    "ExecuteTime": {
     "end_time": "2025-04-02T21:59:11.030466Z",
     "start_time": "2025-04-02T21:59:11.015303Z"
    }
   },
   "outputs": [
    {
     "name": "stdout",
     "output_type": "stream",
     "text": [
      "tensor([20.])\n",
      "1\n"
     ]
    }
   ],
   "source": [
    "import torch\n",
    "x = torch.tensor([2.0], requires_grad=True)\n",
    "y = x**3 + 2*x**2 -5\n",
    "y.backward()\n",
    "print(x.grad)\n",
    "print(x.ndim)"
   ]
  },
  {
   "cell_type": "code",
   "execution_count": 27,
   "id": "c2b7058a3b1eca9d",
   "metadata": {
    "ExecuteTime": {
     "end_time": "2025-04-08T04:14:30.565252Z",
     "start_time": "2025-04-08T04:14:30.559340Z"
    }
   },
   "outputs": [
    {
     "name": "stdout",
     "output_type": "stream",
     "text": [
      "Traceback (most recent call last):\n",
      "  File \"/Users/linfengsheng/Desktop/recovery/MusicalInstrumentClassification/music-instrument-classification/music-instrument-classification/src_instrument_demo.py\", line 29, in <module>\n",
      "    waveform, onehot = train_ds[i]  # waveform: [1, seq_len], onehot: [num_classes]\n",
      "  File \"/Users/linfengsheng/Desktop/recovery/MusicalInstrumentClassification/music-instrument-classification/music-instrument-classification/dataset.py\", line 52, in __getitem__\n",
      "    waveform, sr = torchaudio.load(audio_path)\n",
      "  File \"/Users/linfengsheng/anaconda3/envs/music-clean/lib/python3.10/site-packages/torchaudio/_backend/utils.py\", line 204, in load\n",
      "    backend = dispatcher(uri, format, backend)\n",
      "  File \"/Users/linfengsheng/anaconda3/envs/music-clean/lib/python3.10/site-packages/torchaudio/_backend/utils.py\", line 116, in dispatcher\n",
      "    raise RuntimeError(f\"Couldn't find appropriate backend to handle uri {uri} and format {format}.\")\n",
      "RuntimeError: Couldn't find appropriate backend to handle uri all-samples/saxophone/saxophone_Ds4_05_fortissimo_normal.mp3 and format None.\n"
     ]
    }
   ],
   "source": [
    "!python src_instrument_demo.py\n"
   ]
  },
  {
   "cell_type": "code",
   "execution_count": 31,
   "id": "e2074d8cfb9ff7c1",
   "metadata": {},
   "outputs": [
    {
     "name": "stdout",
     "output_type": "stream",
     "text": [
      "Metadata saved to train_metadata.csv with 2844 entries.\n",
      "Metadata saved to test_metadata.csv with 1221 entries.\n"
     ]
    }
   ],
   "source": [
    "!python metadata.py"
   ]
  }
 ],
 "metadata": {
  "kernelspec": {
   "display_name": "Python 3",
   "language": "python",
   "name": "python3"
  },
  "language_info": {
   "codemirror_mode": {
    "name": "ipython",
    "version": 3
   },
   "file_extension": ".py",
   "mimetype": "text/x-python",
   "name": "python",
   "nbconvert_exporter": "python",
   "pygments_lexer": "ipython3",
   "version": "3.10.16"
  }
 },
 "nbformat": 4,
 "nbformat_minor": 5
}
